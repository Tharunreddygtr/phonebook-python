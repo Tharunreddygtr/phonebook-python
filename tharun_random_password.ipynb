{
 "cells": [
  {
   "cell_type": "code",
   "execution_count": 5,
   "id": "4d99869b",
   "metadata": {},
   "outputs": [
    {
     "name": "stdout",
     "output_type": "stream",
     "text": [
      "the random generated password is  H%0tsriyarrfeudzcsdek\n"
     ]
    }
   ],
   "source": [
    "import random\n",
    "alphabets = \"abcdefghijklmnopqrestuvbwxyz\"\n",
    "upper_case_alpha = \"ABCDEFGHIJKLMNOPQRSTUVWXYZ\"\n",
    "special_characters = \"()*&^%$#[]{}/\\!-+=:;~\"\n",
    "numbers = \"1234567890\"\n",
    "generated_password = \"\"\n",
    "\n",
    "for i in range(random.randint(8,25)):\n",
    "    if i==0:\n",
    "        generated_password+=random.choice(upper_case_alpha)\n",
    "    elif i==1:\n",
    "        generated_password+=random.choice(special_characters)\n",
    "    elif i==2:\n",
    "        generated_password+=random.choice(numbers)\n",
    "    else:\n",
    "        generated_password+=random.choice(alphabets)\n",
    "print(\"the random generated password is \", generated_password)"
   ]
  },
  {
   "cell_type": "code",
   "execution_count": null,
   "id": "0873d742",
   "metadata": {},
   "outputs": [],
   "source": []
  },
  {
   "cell_type": "code",
   "execution_count": null,
   "id": "c5169704",
   "metadata": {},
   "outputs": [],
   "source": []
  }
 ],
 "metadata": {
  "kernelspec": {
   "display_name": "Python 3 (ipykernel)",
   "language": "python",
   "name": "python3"
  },
  "language_info": {
   "codemirror_mode": {
    "name": "ipython",
    "version": 3
   },
   "file_extension": ".py",
   "mimetype": "text/x-python",
   "name": "python",
   "nbconvert_exporter": "python",
   "pygments_lexer": "ipython3",
   "version": "3.8.10"
  }
 },
 "nbformat": 4,
 "nbformat_minor": 5
}
